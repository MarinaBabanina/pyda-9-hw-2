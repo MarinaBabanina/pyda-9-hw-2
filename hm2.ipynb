{
 "cells": [
  {
   "cell_type": "markdown",
   "metadata": {},
   "source": [
    "# Домашнее задание, основы python\n",
    "    \n",
    "## Задание 1\n",
    "Даны 2 строки: long_phrase и short_phrase. Напишите код, который проверяет действительно ли длинная фраза long_phrase длиннее короткой short_phrase. И выводит True или False в зависимости от результата сравнения.    "
   ]
  },
  {
   "cell_type": "code",
   "execution_count": 10,
   "metadata": {},
   "outputs": [
    {
     "name": "stdout",
     "output_type": "stream",
     "text": [
      "True\n"
     ]
    }
   ],
   "source": [
    "long_phrase = 'Насколько проще было бы писать программы, если бы не заказчики'\n",
    "short_phrase = '640Кб должно хватить для любых задач. Билл Гейтс (по легенде)'\n",
    "if len(long_phrase) > len(short_phrase):\n",
    "    print('True')\n",
    "else:\n",
    "    print('False')"
   ]
  },
  {
   "cell_type": "markdown",
   "metadata": {},
   "source": [
    "## Задание 2\n",
    "\n",
    "Дано значение объема файла в байтах (в мегабайте 2^20 байт). Напишите перевод этого значения в мегабайты в формате: \"Объем файла равен 213.68Mb\"."
   ]
  },
  {
   "cell_type": "code",
   "execution_count": 15,
   "metadata": {},
   "outputs": [
    {
     "name": "stdout",
     "output_type": "stream",
     "text": [
      "Введите объем файла в байтах: 100\n",
      "Объем файла равен 9.5367431640625e-05Mb\n"
     ]
    }
   ],
   "source": [
    "v = int(input('Введите объем файла в байтах: '))\n",
    "#print('Объем файла равен ' + str(v/(2**20)) + 'Mb')\n",
    "print('Объем файла равен {}Mb'.format(str(v/(2**20))))"
   ]
  },
  {
   "cell_type": "markdown",
   "metadata": {},
   "source": [
    "## Задание 3\n",
    "\n",
    "Разработать приложение для определения знака зодиака по дате рождения. Пример:\n",
    "\n",
    "Введите месяц: март\n",
    "\n",
    "Введите число: 6\n",
    "\n",
    "Вывод: Рыбы"
   ]
  },
  {
   "cell_type": "code",
   "execution_count": 35,
   "metadata": {},
   "outputs": [
    {
     "name": "stdout",
     "output_type": "stream",
     "text": [
      "Введите месяц: 3\n",
      "Введите число: 8\n",
      "Вывод: Рыбы\n"
     ]
    }
   ],
   "source": [
    "try:\n",
    "    month = input('Введите месяц: ')\n",
    "    date = int(input('Введите число: '))\n",
    "    \n",
    "    month_list1 = ['январь', 'февраль', 'март', 'апрель', 'май', 'июнь', 'июль', 'август', 'сентябрь', 'октябрь', 'ноябрь',\n",
    "                   'декабрь']\n",
    "    month_list2 = [i for i in range(1,13)]\n",
    "    date_list = [j for j in range(1,32)]\n",
    "    \n",
    "    if (month.lower() not in month_list1 and int(month) not in month_list2) or date not in date_list:\n",
    "        print('Ошибка ввода!')\n",
    "    else:\n",
    "\n",
    "        if month.lower() == 'январь':\n",
    "            month = 1\n",
    "        elif month.lower() == 'февраль':\n",
    "            month = 2\n",
    "        elif month.lower() == 'март':\n",
    "            month = 3\n",
    "        elif month.lower() == 'апрель':\n",
    "            month = 4\n",
    "        elif month.lower() == 'май':\n",
    "            month = 5\n",
    "        elif month.lower() == 'июнь':\n",
    "            month = 6\n",
    "        elif month.lower() == 'июль':\n",
    "            month = 7\n",
    "        elif month.lower() == 'август':\n",
    "            month = 8\n",
    "        elif month.lower() == 'сентябрь':\n",
    "            month = 9\n",
    "        elif month.lower() == 'октябрь':\n",
    "            month = 10\n",
    "        elif month.lower() == 'ноябрь':\n",
    "            month = 11\n",
    "        elif month.lower() == 'декабрь':\n",
    "            month = 12\n",
    "        else:\n",
    "            month = int(month)\n",
    "\n",
    "        if (month == 3 and 21 <= date <= 31) or (month == 4 and 1 <= date <= 20):\n",
    "            print('Вывод: Овен')\n",
    "        elif (month == 4 and 21 <= date <= 30) or (month == 5 and 1 <= date <= 21):\n",
    "            print('Вывод: Телец')\n",
    "        elif (month == 5 and 22 <= date <= 31) or (month == 6 and 1 <= date <= 21):\n",
    "            print('Вывод: Близнецы')\n",
    "        elif (month == 6 and 22 <= date <= 30) or (month == 7 and 1 <= date <= 22):\n",
    "            print('Вывод: Рак')\n",
    "        elif (month == 7 and 23 <= date <= 31) or (month == 8 and 1 <= date <= 21):\n",
    "            print('Вывод: Лев')\n",
    "        elif (month == 8 and 22 <= date <= 31) or (month == 9 and 1 <= date <= 23):\n",
    "            print('Вывод: Дева')\n",
    "        elif (month == 9 and 24 <= date <= 30) or (month == 10 and 1 <= date <= 23):\n",
    "            print('Вывод: Весы')\n",
    "        elif (month == 10 and 24 <= date <= 31) or (month == 11 and 1 <= date <= 22):\n",
    "            print('Вывод: Скорпион')\n",
    "        elif (month == 11 and 23 <= date <= 30) or (month == 12 and 1 <= date <= 22):\n",
    "            print('Вывод: Стрелец')\n",
    "        elif (month == 12 and 23 <= date <= 31) or (month == 1 and 1 <= date <= 20):\n",
    "            print('Вывод: Козерог')\n",
    "        elif (month == 1 and 21 <= date <= 31) or (month == 2 and 1 <= date <= 19):\n",
    "            print('Вывод: Водолей')\n",
    "        elif (month == 2 and 20 <= date <= 29) or (month == 3 and 1 <= date <= 20):\n",
    "            print('Вывод: Рыбы')\n",
    "except:\n",
    "    print('Что-то пошло не так!')"
   ]
  },
  {
   "cell_type": "markdown",
   "metadata": {},
   "source": [
    "## Задание 4\n",
    "\n",
    "Нужно разработать приложение для финансового планирования. Приложение учитывает сколько уходит на ипотеку, \"на жизнь\" и сколько нужно отложить на пенсию. Пользователь вводит:\n",
    "\n",
    "заработанную плату в месяц.\n",
    "сколько процентов от ЗП уходит на ипотеку.\n",
    "сколько процентов от ЗП уходит \"на жизнь\".\n",
    "сколько раз приходит премия в год.\n",
    "Остальная часть заработанной платы откладывается на пенсию.\n",
    "\n",
    "Также пользователю приходит премия в размере зарплаты, от которой половина уходит на отпуск, а вторая половина откладывается.\n",
    "\n",
    "Программа должна учитывать сколько премий было в год.\n",
    "\n",
    "Нужно вывести сколько денег тратит пользователь на ипотеку и сколько он накопит за год.\n",
    "\n",
    "Пример:\n",
    "\n",
    "Введите заработанную плату в месяц: 100000\n",
    "\n",
    "Введите сколько процентов уходит на ипотеку: 30\n",
    "\n",
    "Введите сколько процентов уходит на жизнь: 50\n",
    "\n",
    "Введите количество премий за год: 2\n",
    "\n",
    "Вывод: На ипотеку было потрачено: 360000 рублей Было накоплено: 340000 рублей"
   ]
  },
  {
   "cell_type": "code",
   "execution_count": 39,
   "metadata": {},
   "outputs": [
    {
     "name": "stdout",
     "output_type": "stream",
     "text": [
      "Введите заработанную плату в месяц: 34000\n",
      "Введите сколько процентов уходит на ипотеку: 14\n",
      "Введите сколько процентов уходит на жизнь: 25\n",
      "Введите количество премий за год: 0\n",
      "На ипотеку было потрачено: 57120 рублей Было накоплено: 248880 рублей\n"
     ]
    }
   ],
   "source": [
    "try:\n",
    "    pay = int(input('Введите заработанную плату в месяц: '))\n",
    "    percent_mortgage = int(input('Введите сколько процентов уходит на ипотеку: '))/100\n",
    "    percent_life = int(input('Введите сколько процентов уходит на жизнь: '))/100\n",
    "    count_bonus = int(input('Введите количество премий за год: '))\n",
    "    \n",
    "    pay_mortgage = round(12 * pay * percent_mortgage)\n",
    "    \n",
    "    remain_pay = round((1 - percent_mortgage - percent_life) * pay)\n",
    "    if remain_pay <0:\n",
    "        remain_pay = 0\n",
    "    \n",
    "    remain_bonus = pay * count_bonus / 2\n",
    "    \n",
    "    remain = round(remain_pay * 12 + remain_bonus)\n",
    "    print('На ипотеку было потрачено: {} рублей Было накоплено: {} рублей'.format(pay_mortgage, remain))\n",
    "except:\n",
    "    print('Что-то пошло не так!')"
   ]
  }
 ],
 "metadata": {
  "kernelspec": {
   "display_name": "Python 3",
   "language": "python",
   "name": "python3"
  },
  "language_info": {
   "codemirror_mode": {
    "name": "ipython",
    "version": 3
   },
   "file_extension": ".py",
   "mimetype": "text/x-python",
   "name": "python",
   "nbconvert_exporter": "python",
   "pygments_lexer": "ipython3",
   "version": "3.7.6"
  }
 },
 "nbformat": 4,
 "nbformat_minor": 4
}
